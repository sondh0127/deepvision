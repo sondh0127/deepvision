{
  "cells": [
    {
      "cell_type": "code",
      "execution_count": null,
      "metadata": {
        "collapsed": true,
        "pycharm": {}
      },
      "outputs": [],
      "source": "from sklearn.preprocessing import LabelBinarizer\nfrom sklearn.model_selection import train_test_split\nfrom sklearn.metrics import classification_report\nfrom .utilities.preprocessing import SimplePreprocessor\nfrom .utilities.preprocessing import ImageToArrayPreprocessor\nfrom .utilities.datasets import SimpleDatasetLoader\nfrom .utilities.nn.cnn import ShallowNet\nfrom keras.optimizers import SGD\nfrom imutils import paths\nimport matplotlib.pyplot as plt\nimport numpy as np\nimport argparse\n"
    },
    {
      "cell_type": "code",
      "execution_count": null,
      "outputs": [],
      "source": "# Construct the argument parser and parse the arguments\nap \u003d argparse.ArgumentParser()\nap.add_argument(\u0027-d\u0027, \u0027--dataset\u0027, required\u003dTrue,\n                help\u003d\u0027Path to input dataset\u0027)\nargs \u003d vars(ap.parse_args())\n\n# Grab the list of images\nprint(\u0027[INFO]: Loading images....\u0027)\nimage_paths \u003d list(paths.list_images(args[\u0027dataset\u0027]))",
      "metadata": {
        "pycharm": {
          "metadata": false,
          "name": "#%%\n"
        }
      }
    },
    {
      "cell_type": "code",
      "execution_count": null,
      "outputs": [],
      "source": "# Initialize the preprocessors\nsp \u003d SimplePreprocessor(32, 32)\nitap \u003d ImageToArrayPreprocessor()\n\n# Load the dataset and scale the raw pixel intensities to the range [0, 1]\nsdl \u003d SimpleDatasetLoader(preprocessors\u003d[sp, itap])\n(data, labels) \u003d sdl.load(image_paths, verbose\u003d500)\ndata \u003d data.astype(\u0027float\u0027) / 255.0\n\n# Split the data into training data (75%) and testing data (25%)\n(train_x, test_x, train_y, test_y) \u003d train_test_split(data, labels, test_size\u003d0.25, random_state\u003d42)\n\n# Convert the labels from integers to vectors\ntrain_y \u003d LabelBinarizer().fit_transform(train_y)\ntest_y \u003d LabelBinarizer().fit_transform(test_y)",
      "metadata": {
        "pycharm": {
          "metadata": false,
          "name": "#%%\n"
        }
      }
    },
    {
      "cell_type": "code",
      "execution_count": null,
      "outputs": [],
      "source": "# Initialize the optimizer and model\nprint(\u0027[INFO]: Compiling model....\u0027)\noptimizer \u003d SGD(lr\u003d0.005)\nmodel \u003d ShallowNet.build(width\u003d32, height\u003d32, depth\u003d3, classes\u003d3)\nmodel.compile(loss\u003d\u0027categorical_crossentropy\u0027, optimizer\u003doptimizer, metrics\u003d[\u0027accuracy\u0027])",
      "metadata": {
        "pycharm": {
          "metadata": false,
          "name": "#%%\n"
        }
      }
    },
    {
      "cell_type": "code",
      "execution_count": null,
      "outputs": [],
      "source": "# Train the network\nprint(\u0027[INFO]: Training the network....\u0027)\nH \u003d model.fit(train_x, train_y, validation_data\u003d(test_x, test_y), batch_size\u003d32, epochs\u003d100, verbose\u003d1)",
      "metadata": {
        "pycharm": {
          "metadata": false,
          "name": "#%%\n"
        }
      }
    },
    {
      "cell_type": "code",
      "execution_count": null,
      "outputs": [],
      "source": "# Test the network\nprint(\u0027[INFO]: Evaluating the network....\u0027)\npredictions \u003d model.predict(test_x, batch_size\u003d32)\nprint(classification_report(test_y.argmax(axis\u003d1), predictions.argmax(axis\u003d1), target_names\u003d[\u0027cat\u0027, \u0027dog\u0027, \u0027panda\u0027]))",
      "metadata": {
        "pycharm": {
          "metadata": false,
          "name": "#%%\n"
        }
      }
    },
    {
      "cell_type": "code",
      "execution_count": null,
      "outputs": [],
      "source": "# Plot the training loss and accuracy\nplt.style.use(\u0027ggplot\u0027)\nplt.figure()\nplt.plot(np.arange(0, 100), H.history[\u0027loss\u0027], label\u003d\u0027train_loss\u0027)\nplt.plot(np.arange(0, 100), H.history[\u0027val_loss\u0027], label\u003d\u0027val_loss\u0027)\nplt.plot(np.arange(0, 100), H.history[\u0027acc\u0027], label\u003d\u0027train_acc\u0027)\nplt.plot(np.arange(0, 100), H.history[\u0027val_acc\u0027], label\u003d\u0027val_acc\u0027)\nplt.title(\u0027Training Loss and Accuracy\u0027)\nplt.xlabel(\u0027Epoch #\u0027)\nplt.ylabel(\u0027Loss/Accuracy\u0027)\nplt.legend()\nplt.show()\n",
      "metadata": {
        "pycharm": {
          "metadata": false,
          "name": "#%%\n"
        }
      }
    }
  ],
  "metadata": {
    "language_info": {
      "codemirror_mode": {
        "name": "ipython",
        "version": 2
      },
      "file_extension": ".py",
      "mimetype": "text/x-python",
      "name": "python",
      "nbconvert_exporter": "python",
      "pygments_lexer": "ipython2",
      "version": "2.7.6"
    },
    "kernelspec": {
      "name": "python3",
      "language": "python",
      "display_name": "Python 3"
    }
  },
  "nbformat": 4,
  "nbformat_minor": 0
}