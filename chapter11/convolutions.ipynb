{
  "cells": [
    {
      "cell_type": "markdown",
      "metadata": {
        "collapsed": true,
        "pycharm": {
          "name": "#%% md\n"
        }
      },
      "source": "### Convolution\n- Convolution is an element-wise multiplication of two matrices\nfollowed by a sum.\n    1. Take two matrices (which both have the same dimensions).\n    2. Multiply them, element-by-element (i.e., not the dot product, just a simple multiplication).\n    3. Sum the elements together.\n \n- Image ~ Big-matrix\n- Kernel/Convolutional Matrix  ~ Tiny maxtrix \n    Odd kernel (3x3) \u003d\u003e can get center"
    },
    {
      "cell_type": "code",
      "execution_count": 1,
      "outputs": [],
      "source": "from skimage.exposure import rescale_intensity\nimport numpy as np\nimport argparse\nimport cv2  ",
      "metadata": {
        "pycharm": {
          "metadata": false,
          "name": "#%%\n",
          "is_executing": false
        }
      }
    },
    {
      "cell_type": "markdown",
      "source": "- Convolution Implemented:\n- Add zero padding (Replicate padding): For ensuring the spacial size of input image are not reduced.\n- The kernel will multiply each input pixel by a small fraction and take the sum – this is exactly the definition of the\naverage.",
      "metadata": {
        "pycharm": {
          "metadata": false
        }
      }
    },
    {
      "cell_type": "code",
      "execution_count": null,
      "outputs": [],
      "source": "# Construct average blurring kernels used to smooth an image\nsmall_blur \u003d np.ones((7, 7), dtype\u003d\u0027float\u0027) * (1.0 / (7 * 7))\nlarge_blur \u003d np.ones((21, 21), dtype\u003d\u0027float\u0027) * (1.0 / (21 * 21))\n",
      "metadata": {
        "pycharm": {
          "metadata": false,
          "name": "#%%\n"
        }
      }
    }
  ],
  "metadata": {
    "language_info": {
      "codemirror_mode": {
        "name": "ipython",
        "version": 2
      },
      "file_extension": ".py",
      "mimetype": "text/x-python",
      "name": "python",
      "nbconvert_exporter": "python",
      "pygments_lexer": "ipython2",
      "version": "2.7.6"
    },
    "kernelspec": {
      "name": "python3",
      "language": "python",
      "display_name": "Python 3"
    }
  },
  "nbformat": 4,
  "nbformat_minor": 0
}