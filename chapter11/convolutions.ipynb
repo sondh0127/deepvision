{
  "cells": [
    {
      "cell_type": "markdown",
      "metadata": {
        "collapsed": true,
        "pycharm": {
          "name": "#%% md\n"
        }
      },
      "source": "## Convolution\n- Convolution is an element-wise multiplication of two matrices\nfollowed by a sum.\nStep to make a convolution:\n    1. Take two matrices (which both have the same dimensions).\n    2. Multiply them, element-by-element (i.e., not the dot product, just a simple multiplication).\n    3. Sum the elements together.\n \n- Image ~ Big-matrix\n- Kernel/Convolutional Matrix  ~ Tiny maxtrix \n   - odd kernel (Example: 3x3) \u003d\u003e thus the kernel can have \"center pixel\""
    },
    {
      "cell_type": "markdown",
      "source": "## Convolution Implemented:\nImporting required Python packages",
      "metadata": {
        "pycharm": {
          "metadata": false,
          "name": "#%% md\n"
        }
      }
    },
    {
      "cell_type": "code",
      "execution_count": 2,
      "outputs": [],
      "source": "from skimage.exposure import rescale_intensity\nimport numpy as np\nimport argparse\nimport cv2\nimport matplotlib.pyplot as plt",
      "metadata": {
        "pycharm": {
          "metadata": false,
          "name": "#%%\n",
          "is_executing": false
        }
      }
    },
    {
      "cell_type": "markdown",
      "source": "\nDefining this convolve method",
      "metadata": {
        "pycharm": {
          "metadata": false,
          "name": "#%% md\n"
        }
      }
    },
    {
      "cell_type": "code",
      "source": "def convolve(image, kernel):\n    # Get the dimensions of the image and kernel\n    (img_h, img_w) \u003d image.shape[:2]\n    (ker_h, ker_w) \u003d kernel.shape[:2]\n\n    # Allocate memory of the output image, ensuring to \u0027pad\u0027 the borders of the input image so the spacial size\n    # (i.e. width and height) are not reduced\n    pad \u003d (ker_w - 1) // 2\n    image \u003d cv2.copyMakeBorder(image, pad, pad, pad, pad, cv2.BORDER_REPLICATE)\n    output \u003d np.zeros((img_h, img_w), dtype\u003d\u0027float\u0027)\n\n    # Loop over the input image, \u0027sliding\u0027 the kernel across each (x, y) coordinate from left-to-right and\n    # top-to-bottom\n    for y in np.arange(pad, img_h + pad):\n        for x in np.arange(pad, img_w + pad):\n            # Extract the ROI of the image by extracting the \u0027center\u0027 region of the current (x, y) coordinates\n            # dimensions\n            roi \u003d image[y - pad:y + pad + 1, x - pad:x + pad + 1]\n\n            # Perform the actual convolution\n            k \u003d (roi * kernel).sum()\n\n            # Store the convolved value in the (x, y) coordinate of the output image\n            output[y - pad, x - pad] \u003d k\n\n    # Rescale the output image to be in the range [0, 255]\n    output \u003d rescale_intensity(output, in_range\u003d(0, 255))\n    output \u003d (output * 255).astype(\u0027uint8\u0027)\n\n    # Return the output image\n    return output\n\n",
      "metadata": {
        "pycharm": {
          "metadata": false,
          "name": "#%%\n",
          "is_executing": false
        }
      },
      "execution_count": 3,
      "outputs": []
    },
    {
      "cell_type": "markdown",
      "source": "- Add zero padding (Replicate padding): For ensuring the spacial size of input image are not reduced.",
      "metadata": {
        "pycharm": {
          "metadata": false
        }
      }
    },
    {
      "cell_type": "markdown",
      "source": "Next, Apply the actual convolution to our image:",
      "metadata": {
        "pycharm": {
          "metadata": false
        }
      }
    },
    {
      "cell_type": "code",
      "execution_count": 6,
      "outputs": [],
      "source": "# Construct average blurring kernels used to smooth an image\nsmall_blur \u003d np.ones((7, 7), dtype\u003d\u0027float\u0027) * (1.0 / (7 * 7))\nlarge_blur \u003d np.ones((21, 21), dtype\u003d\u0027float\u0027) * (1.0 / (21 * 21))\n",
      "metadata": {
        "pycharm": {
          "metadata": false,
          "name": "#%%\n",
          "is_executing": false
        }
      }
    },
    {
      "cell_type": "markdown",
      "source": "- The kernel will multiply each input pixel by a small fraction and take the sum – this is exactly the definition of the average.",
      "metadata": {
        "pycharm": {
          "metadata": false
        }
      }
    },
    {
      "cell_type": "markdown",
      "source": "Construct responsible kernel:",
      "metadata": {
        "pycharm": {
          "metadata": false,
          "name": "#%% md\n"
        }
      }
    },
    {
      "cell_type": "code",
      "execution_count": 7,
      "outputs": [],
      "source": "# Construct a sharpening filter\nsharpen \u003d np.array(([0, -1, 0],\n                    [-1, 5, -1],\n                    [0, -1, 0]), dtype\u003d\u0027float\u0027)",
      "metadata": {
        "pycharm": {
          "metadata": false,
          "name": "#%%\n",
          "is_executing": false
        }
      }
    },
    {
      "cell_type": "code",
      "execution_count": 8,
      "outputs": [],
      "source": "# Construct the Laplacian kernel used to detect edge-like regions of an image\nlaplacian \u003d np.array(([0, 1, 0],\n                      [1, -4, 1],\n                      [0, 1, 0]), dtype\u003d\u0027int\u0027)",
      "metadata": {
        "pycharm": {
          "metadata": false,
          "name": "#%%\n",
          "is_executing": false
        }
      }
    },
    {
      "cell_type": "code",
      "execution_count": 9,
      "outputs": [],
      "source": "# The Sobel kernels can be used to detect edge-like regions along both the x and y axis, respectively:\n# Construct the Sobel x-axis kernel\nsobel_x \u003d np.array(([-1, 0, 1],\n                    [-2, 0, 2],\n                    [-1, 0, 1]), dtype\u003d\u0027int\u0027)\n\n# Construct the Sobel y-axis kernel\nsobel_y \u003d np.array(([-1, -2, -1],\n                    [0, 0, 0],\n                    [1, 2, 1]), dtype\u003d\u0027int\u0027)",
      "metadata": {
        "pycharm": {
          "metadata": false,
          "name": "#%%\n",
          "is_executing": false
        }
      }
    },
    {
      "cell_type": "code",
      "execution_count": 10,
      "outputs": [],
      "source": "# Construct an emboss kernel\nemboss \u003d np.array(([-2, -1, 0],\n                   [-1, 1, 1],\n                   [0, 1, 2]), dtype\u003d\u0027int\u0027)",
      "metadata": {
        "pycharm": {
          "metadata": false,
          "name": "#%%\n",
          "is_executing": false
        }
      }
    },
    {
      "cell_type": "code",
      "source": "# Construct a kernel bank, a list of kernels to be applied using out custom \u0027convolve\u0027 function and OpenCV\u0027s\n# \u0027filter2D\u0027 function\nkernel_bank \u003d ((\u0027small_blur\u0027, small_blur),\n               (\u0027large_blur\u0027, large_blur),\n               (\u0027sharpen\u0027, sharpen),\n               (\u0027laplacian\u0027, laplacian),\n               (\u0027sobel_x\u0027, sobel_x),\n               (\u0027sobel_y\u0027, sobel_y),\n               (\u0027emboss\u0027, emboss))",
      "metadata": {
        "pycharm": {
          "metadata": false,
          "name": "#%%\n",
          "is_executing": false
        }
      },
      "execution_count": 11,
      "outputs": []
    },
    {
      "cell_type": "markdown",
      "source": "- Constructing this list of kernels enables use to loop over them and visualize their output in an\nefficient manner.",
      "metadata": {
        "pycharm": {
          "metadata": false
        }
      }
    },
    {
      "cell_type": "code",
      "execution_count": 18,
      "outputs": [
        {
          "data": {
            "text/plain": "(500, 375, 3)"
          },
          "metadata": {},
          "output_type": "execute_result",
          "execution_count": 18
        }
      ],
      "source": "# Load the image and convert it to greyscale\nimage \u003d cv2.imread(\"jemma.png\")\ngrey \u003d cv2.cvtColor(image, cv2.COLOR_BGR2GRAY)\ngrey.shape\n# plt.imshow(grey, cmap\u003d\u0027gray\u0027, interpolation\u003d\u0027none\u0027)\n\n",
      "metadata": {
        "pycharm": {
          "metadata": false,
          "name": "#%%\n",
          "is_executing": false
        }
      }
    },
    {
      "cell_type": "code",
      "execution_count": 1,
      "outputs": [
        {
          "traceback": [
            "\u001b[0;31m---------------------------------------------------------------------------\u001b[0m",
            "\u001b[0;31mNameError\u001b[0m                                 Traceback (most recent call last)",
            "\u001b[0;32m\u003cipython-input-1-d83683b741af\u003e\u001b[0m in \u001b[0;36m\u003cmodule\u003e\u001b[0;34m\u001b[0m\n\u001b[0;32m----\u003e 1\u001b[0;31m \u001b[0mplt\u001b[0m\u001b[0;34m.\u001b[0m\u001b[0mfigure\u001b[0m\u001b[0;34m(\u001b[0m\u001b[0mfigsize\u001b[0m\u001b[0;34m\u003d\u001b[0m\u001b[0;34m(\u001b[0m\u001b[0;36m5\u001b[0m\u001b[0;34m,\u001b[0m\u001b[0;36m3.75\u001b[0m\u001b[0;34m)\u001b[0m\u001b[0;34m)\u001b[0m\u001b[0;34m\u001b[0m\u001b[0;34m\u001b[0m\u001b[0m\n\u001b[0m\u001b[1;32m      2\u001b[0m \u001b[0;31m# Loop over the kernels\u001b[0m\u001b[0;34m\u001b[0m\u001b[0;34m\u001b[0m\u001b[0;34m\u001b[0m\u001b[0m\n\u001b[1;32m      3\u001b[0m \u001b[0;32mfor\u001b[0m \u001b[0;34m(\u001b[0m\u001b[0mkernel_name\u001b[0m\u001b[0;34m,\u001b[0m \u001b[0mkernel\u001b[0m\u001b[0;34m)\u001b[0m \u001b[0;32min\u001b[0m \u001b[0mkernel_bank\u001b[0m\u001b[0;34m:\u001b[0m\u001b[0;34m\u001b[0m\u001b[0;34m\u001b[0m\u001b[0m\n\u001b[1;32m      4\u001b[0m     \u001b[0;31m# Apply the kernel to the greyscale image using both \u0027convolve\u0027 functions\u001b[0m\u001b[0;34m\u001b[0m\u001b[0;34m\u001b[0m\u001b[0;34m\u001b[0m\u001b[0m\n\u001b[1;32m      5\u001b[0m     \u001b[0mprint\u001b[0m\u001b[0;34m(\u001b[0m\u001b[0;34m\u0027[INFO]: Applying {} kernel\u0027\u001b[0m\u001b[0;34m.\u001b[0m\u001b[0mformat\u001b[0m\u001b[0;34m(\u001b[0m\u001b[0mkernel_name\u001b[0m\u001b[0;34m)\u001b[0m\u001b[0;34m)\u001b[0m\u001b[0;34m\u001b[0m\u001b[0;34m\u001b[0m\u001b[0m\n",
            "\u001b[0;31mNameError\u001b[0m: name \u0027plt\u0027 is not defined"
          ],
          "ename": "NameError",
          "evalue": "name \u0027plt\u0027 is not defined",
          "output_type": "error"
        }
      ],
      "source": "# Loop over the kernels\nfor (kernel_name, kernel) in kernel_bank:\n    # Apply the kernel to the greyscale image using both \u0027convolve\u0027 functions\n    print(\u0027[INFO]: Applying {} kernel\u0027.format(kernel_name))\n    convolve_output \u003d convolve(grey, kernel)\n    opencv_output \u003d cv2.filter2D(grey, -1, kernel)\n    # Show the output image\n    plt.figure(figsize\u003d(10, 7))\n\n    plt.subplot(1,3,1)\n    plt.imshow(grey, cmap\u003d\u0027gray\u0027, interpolation\u003d\u0027none\u0027)\n    plt.title(\u0027Original\u0027)\n    \n    plt.subplot(1,3,2)\n    plt.imshow(convolve_output, cmap\u003d\u0027gray\u0027, interpolation\u003d\u0027none\u0027)\n    plt.title(\u0027{} - convolve\u0027.format(kernel_name))\n\n    plt.subplot(1,3,3)\n    plt.imshow(opencv_output, cmap\u003d\u0027gray\u0027, interpolation\u003d\u0027none\u0027)\n    plt.title(\u0027{} - filter2D\u0027.format(kernel_name))\n    plt.show()\n\n",
      "metadata": {
        "pycharm": {
          "metadata": false,
          "name": "#%%\n",
          "is_executing": false
        }
      }
    }
  ],
  "metadata": {
    "language_info": {
      "codemirror_mode": {
        "name": "ipython",
        "version": 2
      },
      "file_extension": ".py",
      "mimetype": "text/x-python",
      "name": "python",
      "nbconvert_exporter": "python",
      "pygments_lexer": "ipython2",
      "version": "2.7.6"
    },
    "kernelspec": {
      "name": "python3",
      "language": "python",
      "display_name": "Python 3"
    }
  },
  "nbformat": 4,
  "nbformat_minor": 0
}